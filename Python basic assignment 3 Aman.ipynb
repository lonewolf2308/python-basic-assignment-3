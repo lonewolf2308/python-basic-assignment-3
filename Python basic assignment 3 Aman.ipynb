{
 "cells": [
  {
   "cell_type": "code",
   "execution_count": null,
   "id": "8761d9e4",
   "metadata": {},
   "outputs": [],
   "source": [
    "1.Why are functions advantageous to have in your programs"
   ]
  },
  {
   "cell_type": "code",
   "execution_count": null,
   "id": "e7ef8392",
   "metadata": {},
   "outputs": [],
   "source": [
    "Ans. \n",
    "    1.Use of functions enhances the readability of a program. A big code is always difficult to read. Breaking the code in smaller Functions keeps the program organized, easy to understand and makes it reusable.\n",
    "    2.It reduces the complexity of a program and gives it a modular structure.\n",
    "    3.In case we need to test only a particular part of the program we will have to run the whole program and figure out the errors which can be quite a complex process. Another advantage here is that functions can be individually tested.\n",
    "    4.A function can be used to create our own header file which can be used in any number of programs i.e. the reusability."
   ]
  },
  {
   "cell_type": "code",
   "execution_count": null,
   "id": "8a3c0083",
   "metadata": {},
   "outputs": [],
   "source": [
    "2.When does the code in a function run: when it's specified or when it's called?\n"
   ]
  },
  {
   "cell_type": "code",
   "execution_count": null,
   "id": "56bb6aa2",
   "metadata": {},
   "outputs": [],
   "source": [
    "Ans. The code in a function executes when the function is called, not when the function is defined."
   ]
  },
  {
   "cell_type": "code",
   "execution_count": null,
   "id": "b0988852",
   "metadata": {},
   "outputs": [],
   "source": [
    "3.What statement creates a function?\n"
   ]
  },
  {
   "cell_type": "code",
   "execution_count": null,
   "id": "d048f460",
   "metadata": {},
   "outputs": [],
   "source": [
    "Ans. The def statement defines (that is, creates) a function.\n"
   ]
  },
  {
   "cell_type": "code",
   "execution_count": null,
   "id": "e71fb4d4",
   "metadata": {},
   "outputs": [],
   "source": [
    "4. What is the difference between a function and a function call?"
   ]
  },
  {
   "cell_type": "code",
   "execution_count": null,
   "id": "caab9610",
   "metadata": {},
   "outputs": [],
   "source": [
    "Ans.  A function consists of the def statement and the code in its def clause.\n",
    "\n",
    "A function call is what moves the program execution into the function, and the function call evaluates to the function’s return value."
   ]
  },
  {
   "cell_type": "code",
   "execution_count": null,
   "id": "89b3dbdb",
   "metadata": {},
   "outputs": [],
   "source": [
    "5. How many global scopes are there in a Python program? How many local scopes?\n"
   ]
  },
  {
   "cell_type": "code",
   "execution_count": null,
   "id": "f46ebbc3",
   "metadata": {},
   "outputs": [],
   "source": [
    "Ans. We have only 1 global scope variable for a program and can have many local scope variables as per the number of functions we have defined.\n",
    "\n",
    "Also, a local variable is only created when a function is called. Declaring a local variable doesn't mean it has been assigned a memory location. "
   ]
  },
  {
   "cell_type": "code",
   "execution_count": null,
   "id": "b4812a2d",
   "metadata": {},
   "outputs": [],
   "source": [
    "6. What happens to variables in a local scope when the function call returns?\n"
   ]
  },
  {
   "cell_type": "code",
   "execution_count": null,
   "id": "4c11e985",
   "metadata": {},
   "outputs": [],
   "source": [
    "Ans.  When the execution of the function returns, the local variables in the function scope are destroyed.\n",
    "\n",
    "Even the parameters of the function are local to the scope of the function."
   ]
  },
  {
   "cell_type": "code",
   "execution_count": null,
   "id": "d8b6278e",
   "metadata": {},
   "outputs": [],
   "source": [
    "7. What is the concept of a return value? Is it possible to have a return value in an expression?\n"
   ]
  },
  {
   "cell_type": "code",
   "execution_count": null,
   "id": "1b9ccab2",
   "metadata": {},
   "outputs": [],
   "source": [
    "Ans.  The return statement is used to return values from the function. Any remaining lines of code block after the return statement are not executed.\n"
   ]
  },
  {
   "cell_type": "code",
   "execution_count": 4,
   "id": "32cfce4b",
   "metadata": {},
   "outputs": [
    {
     "data": {
      "text/plain": [
       "13"
      ]
     },
     "execution_count": 4,
     "metadata": {},
     "output_type": "execute_result"
    }
   ],
   "source": [
    "def add_values(x1, x2):\n",
    "    sum = x1 + x2\n",
    "    return sum  # explicit return statement\n",
    "\n",
    "add_values(2, 11) "
   ]
  },
  {
   "cell_type": "code",
   "execution_count": 5,
   "id": "a2aba6d4",
   "metadata": {},
   "outputs": [
    {
     "data": {
      "text/plain": [
       "13"
      ]
     },
     "execution_count": 5,
     "metadata": {},
     "output_type": "execute_result"
    }
   ],
   "source": [
    "def add_values(x1, x2):\n",
    "    return x1 + x2  # an expression is evaluated first and then value is returned\n",
    "\n",
    "add_values(2, 11)\n"
   ]
  },
  {
   "cell_type": "code",
   "execution_count": null,
   "id": "e28b2d04",
   "metadata": {},
   "outputs": [],
   "source": [
    "8. If a function does not have a return statement, what is the return value of a call to that function?\n"
   ]
  },
  {
   "cell_type": "code",
   "execution_count": null,
   "id": "86e5f49d",
   "metadata": {},
   "outputs": [],
   "source": [
    "Ans. If there is no return statement for a function, its return value is None.\n"
   ]
  },
  {
   "cell_type": "code",
   "execution_count": 6,
   "id": "8c0afb56",
   "metadata": {},
   "outputs": [
    {
     "name": "stdout",
     "output_type": "stream",
     "text": [
      "None\n",
      "<class 'NoneType'>\n"
     ]
    }
   ],
   "source": [
    "def add_values(x1, x2):\n",
    "    sum = x1 + x2\n",
    "\n",
    "print(add_values(2, 11))\n",
    "print(type(add_values(2, 11)))"
   ]
  },
  {
   "cell_type": "code",
   "execution_count": null,
   "id": "e11b6b1d",
   "metadata": {},
   "outputs": [],
   "source": [
    "9. How do you make a function variable refer to the global variable?\n"
   ]
  },
  {
   "cell_type": "code",
   "execution_count": null,
   "id": "213953f5",
   "metadata": {},
   "outputs": [],
   "source": [
    "Ans. We use global keyword before a variable to tell interpreter inside a function that we are using a global variable.\n",
    "\n",
    "We use this keyword if we have to modify the global variable inside a function.\n"
   ]
  },
  {
   "cell_type": "code",
   "execution_count": null,
   "id": "75089087",
   "metadata": {},
   "outputs": [],
   "source": [
    "10. What is the data type of None?\n"
   ]
  },
  {
   "cell_type": "code",
   "execution_count": null,
   "id": "d9bf00aa",
   "metadata": {},
   "outputs": [],
   "source": [
    "Ans. The data type of None is NoneType."
   ]
  },
  {
   "cell_type": "code",
   "execution_count": 7,
   "id": "4fd08b64",
   "metadata": {},
   "outputs": [
    {
     "data": {
      "text/plain": [
       "NoneType"
      ]
     },
     "execution_count": 7,
     "metadata": {},
     "output_type": "execute_result"
    }
   ],
   "source": [
    "type(None)"
   ]
  },
  {
   "cell_type": "code",
   "execution_count": null,
   "id": "8c35c2b2",
   "metadata": {},
   "outputs": [],
   "source": [
    "11. What does the sentence import areallyourpetsnamederic do?\n"
   ]
  },
  {
   "cell_type": "code",
   "execution_count": null,
   "id": "a26181cb",
   "metadata": {},
   "outputs": [],
   "source": [
    "Ans. This statement imports a module areallyourpetsnamederic, but as we see below there is no module named areallyourpetsnamederic in Python.\n"
   ]
  },
  {
   "cell_type": "code",
   "execution_count": 8,
   "id": "d5f450f6",
   "metadata": {},
   "outputs": [
    {
     "ename": "ModuleNotFoundError",
     "evalue": "No module named 'areallyourpetsnamederic'",
     "output_type": "error",
     "traceback": [
      "\u001b[1;31m---------------------------------------------------------------------------\u001b[0m",
      "\u001b[1;31mModuleNotFoundError\u001b[0m                       Traceback (most recent call last)",
      "\u001b[1;32m~\\AppData\\Local\\Temp/ipykernel_21564/51184242.py\u001b[0m in \u001b[0;36m<module>\u001b[1;34m\u001b[0m\n\u001b[1;32m----> 1\u001b[1;33m \u001b[1;32mimport\u001b[0m \u001b[0mareallyourpetsnamederic\u001b[0m\u001b[1;33m\u001b[0m\u001b[1;33m\u001b[0m\u001b[0m\n\u001b[0m",
      "\u001b[1;31mModuleNotFoundError\u001b[0m: No module named 'areallyourpetsnamederic'"
     ]
    }
   ],
   "source": [
    "import areallyourpetsnamederic"
   ]
  },
  {
   "cell_type": "code",
   "execution_count": null,
   "id": "8554435d",
   "metadata": {},
   "outputs": [],
   "source": [
    "12. If you had a bacon() feature in a spam module, what would you call it after importing spam?\n"
   ]
  },
  {
   "cell_type": "code",
   "execution_count": null,
   "id": "2db321a5",
   "metadata": {},
   "outputs": [],
   "source": [
    "Ans. Any function in spam module can be called using format,\n",
    "\n",
    "spam.<function-name>()\n",
    "\n",
    "Therefore, bacon feature can be called using,\n",
    "\n",
    "spam.bacon()"
   ]
  },
  {
   "cell_type": "code",
   "execution_count": null,
   "id": "97a34bf4",
   "metadata": {},
   "outputs": [],
   "source": [
    "13. What can you do to save a programme from crashing if it encounters an error?\n",
    "\n"
   ]
  },
  {
   "cell_type": "code",
   "execution_count": null,
   "id": "36167894",
   "metadata": {},
   "outputs": [],
   "source": [
    "Ans. We can place the line of code that might cause an error in a try clause.\n"
   ]
  },
  {
   "cell_type": "code",
   "execution_count": 9,
   "id": "3f7437d9",
   "metadata": {},
   "outputs": [
    {
     "name": "stdout",
     "output_type": "stream",
     "text": [
      "<class 'Exception'> division by zero\n"
     ]
    }
   ],
   "source": [
    "def division(x2, x3):\n",
    "    try:\n",
    "        print(x2/x3)\n",
    "    except Exception as e:\n",
    "        print(Exception, e)\n",
    "\n",
    "division(10, 0)"
   ]
  },
  {
   "cell_type": "code",
   "execution_count": null,
   "id": "bb1b6ce3",
   "metadata": {},
   "outputs": [],
   "source": [
    "14. What is the purpose of the try clause? What is the purpose of the except clause?\n"
   ]
  },
  {
   "cell_type": "code",
   "execution_count": null,
   "id": "5e962731",
   "metadata": {},
   "outputs": [],
   "source": [
    "Ans. The code that could potentially cause an error goes in the try clause.\n",
    "\n",
    "The code that executes if an error happens goes in the except clause."
   ]
  }
 ],
 "metadata": {
  "kernelspec": {
   "display_name": "Python 3 (ipykernel)",
   "language": "python",
   "name": "python3"
  },
  "language_info": {
   "codemirror_mode": {
    "name": "ipython",
    "version": 3
   },
   "file_extension": ".py",
   "mimetype": "text/x-python",
   "name": "python",
   "nbconvert_exporter": "python",
   "pygments_lexer": "ipython3",
   "version": "3.9.7"
  }
 },
 "nbformat": 4,
 "nbformat_minor": 5
}
